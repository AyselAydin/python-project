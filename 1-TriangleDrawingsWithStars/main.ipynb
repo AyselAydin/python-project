{
 "cells": [
  {
   "cell_type": "code",
   "execution_count": 7,
   "metadata": {},
   "outputs": [
    {
     "name": "stdout",
     "output_type": "stream",
     "text": [
      "solution with nested for\n",
      "*\n",
      "**\n",
      "***\n",
      "****\n",
      "*****\n",
      "\n",
      "solution with one for\n",
      "*\n",
      "**\n",
      "***\n",
      "****\n",
      "*****\n"
     ]
    }
   ],
   "source": [
    "rows = 5\n",
    "print(\"solution with nested for\")\n",
    "for i in range(0, rows):\n",
    "    for j in range(0, i + 1):\n",
    "        print(\"*\", end=\"\")\n",
    "    print()\n",
    "\n",
    "print(\"\\nsolution with one for\")\n",
    "for i in range(1, rows+1):\n",
    "    print (\"*\" * i)"
   ]
  },
  {
   "cell_type": "code",
   "execution_count": 8,
   "metadata": {},
   "outputs": [
    {
     "name": "stdout",
     "output_type": "stream",
     "text": [
      "solution with nested for\n",
      "*****\n",
      "****\n",
      "***\n",
      "**\n",
      "*\n",
      "\n",
      "solution with one for\n",
      "*****\n",
      "****\n",
      "***\n",
      "**\n",
      "*\n"
     ]
    }
   ],
   "source": [
    "rows = 5\n",
    "print(\"solution with nested for\")\n",
    "for i in range(rows, 0, -1):\n",
    "    for j in range(0, i):\n",
    "        print(\"*\", end=\"\")\n",
    "    print()\n",
    "\n",
    "print(\"\\nsolution with one for\")\n",
    "for i in range(rows, 0, -1):\n",
    "    print (\"*\" * i)"
   ]
  },
  {
   "cell_type": "code",
   "execution_count": 9,
   "metadata": {},
   "outputs": [
    {
     "name": "stdout",
     "output_type": "stream",
     "text": [
      "solution with nested for\n",
      "     *\n",
      "    **\n",
      "   ***\n",
      "  ****\n",
      " *****\n",
      "\n",
      "solution with one for\n",
      "    *\n",
      "   **\n",
      "  ***\n",
      " ****\n",
      "*****\n"
     ]
    }
   ],
   "source": [
    "rows = 5\n",
    "print(\"solution with nested for\")\n",
    "for i in range(0, rows):\n",
    "  for j in range(0, i+1):\n",
    "    if j == 0:\n",
    "      print(\" \"* (rows-i) + \"*\", end=\"\")\n",
    "    else:\n",
    "      print(\"*\", end=\"\")\n",
    "  print()\n",
    "\n",
    "print(\"\\nsolution with one for\")\n",
    "for i in range(1, rows+1):\n",
    "  print(\" \"* (rows-i) + \"*\"*i)"
   ]
  },
  {
   "cell_type": "code",
   "execution_count": 10,
   "metadata": {},
   "outputs": [
    {
     "name": "stdout",
     "output_type": "stream",
     "text": [
      "solution with nested for\n",
      "*****\n",
      " ****\n",
      "  ***\n",
      "   **\n",
      "    *\n",
      "\n",
      "solution with one for\n",
      "*****\n",
      " ****\n",
      "  ***\n",
      "   **\n",
      "    *\n"
     ]
    }
   ],
   "source": [
    "rows = 5\n",
    "print(\"solution with nested for\")\n",
    "for i in range(rows, 0, -1):\n",
    "  for j in range(0, i):\n",
    "    if j == 0:\n",
    "      print(\" \"* (rows-i) + \"*\", end=\"\")\n",
    "    else:\n",
    "      print(\"*\", end=\"\")\n",
    "  print()\n",
    "\n",
    "print(\"\\nsolution with one for\")\n",
    "for i in range(rows, 0, -1):\n",
    "  print(\" \"* (rows-i) + \"*\"*i)"
   ]
  },
  {
   "cell_type": "code",
   "execution_count": 12,
   "metadata": {},
   "outputs": [
    {
     "name": "stdout",
     "output_type": "stream",
     "text": [
      "solution with nested for\n",
      "     **\n",
      "    ****\n",
      "   ******\n",
      "  ********\n",
      " **********\n",
      "\n",
      "solution with one for\n",
      "    **\n",
      "   ****\n",
      "  ******\n",
      " ********\n",
      "**********\n"
     ]
    }
   ],
   "source": [
    "rows = 5\n",
    "print(\"solution with nested for\")\n",
    "for i in range(0, rows):\n",
    "  for j in range(0, i+1):\n",
    "    if j == 0:\n",
    "      print(\" \"* (rows-i) + \"*\"*2, end=\"\")\n",
    "    else:\n",
    "      print(\"*\"*2, end=\"\")\n",
    "  print()\n",
    "\n",
    "print(\"\\nsolution with one for\")\n",
    "for i in range(1, rows+1):\n",
    "  print(\" \"* (rows-i) + \"*\"*i*2)"
   ]
  },
  {
   "cell_type": "code",
   "execution_count": 14,
   "metadata": {},
   "outputs": [
    {
     "name": "stdout",
     "output_type": "stream",
     "text": [
      "solution with nested for\n",
      "**********\n",
      " ********\n",
      "  ******\n",
      "   ****\n",
      "    **\n",
      "\n",
      "solution with one for\n",
      "**********\n",
      " ********\n",
      "  ******\n",
      "   ****\n",
      "    **\n"
     ]
    }
   ],
   "source": [
    "rows = 5\n",
    "print(\"solution with nested for\")\n",
    "for i in range(rows, 0, -1):\n",
    "  for j in range(0, i):\n",
    "    if j == 0:\n",
    "      print(\" \"* (rows-i) + \"*\"*2, end=\"\")\n",
    "    else:\n",
    "      print(\"*\"*2, end=\"\")\n",
    "  print()\n",
    "\n",
    "print(\"\\nsolution with one for\")\n",
    "for i in range(rows, 0, -1):\n",
    "  print(\" \"* (rows-i) + \"*\"*i*2)"
   ]
  },
  {
   "cell_type": "code",
   "execution_count": 13,
   "metadata": {},
   "outputs": [
    {
     "name": "stdout",
     "output_type": "stream",
     "text": [
      "\n",
      "solution with one for\n",
      "*        *\n",
      "**      **\n",
      "***    ***\n",
      "****  ****\n",
      "**********\n"
     ]
    }
   ],
   "source": [
    "rows = 5\n",
    "print(\"\\nsolution with one for\")\n",
    "for i in range(1, rows+1):\n",
    "  print(\"*\" * i + \" \"* ((rows-i)*2) + \"*\"*i)"
   ]
  }
 ],
 "metadata": {
  "interpreter": {
   "hash": "85849ef95885899d47daeff0f578b9f8af82a26ba4d539bff16a3c227f835db9"
  },
  "kernelspec": {
   "display_name": "Python 3.8.5 ('base')",
   "language": "python",
   "name": "python3"
  },
  "language_info": {
   "codemirror_mode": {
    "name": "ipython",
    "version": 3
   },
   "file_extension": ".py",
   "mimetype": "text/x-python",
   "name": "python",
   "nbconvert_exporter": "python",
   "pygments_lexer": "ipython3",
   "version": "3.8.5"
  },
  "orig_nbformat": 4
 },
 "nbformat": 4,
 "nbformat_minor": 2
}
